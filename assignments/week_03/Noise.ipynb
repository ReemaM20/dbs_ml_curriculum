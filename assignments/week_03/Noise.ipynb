{
 "cells": [
  {
   "cell_type": "markdown",
   "metadata": {},
   "source": [
    "Before you turn this problem in, make sure everything runs as expected. First, **restart the kernel** (in the menubar, select Kernel$\\rightarrow$Restart) and then **run all cells** (in the menubar, select Cell$\\rightarrow$Run All).\n",
    "\n",
    "Make sure you fill in any place that says `YOUR CODE HERE` or \"YOUR ANSWER HERE\", as well as your name and collaborators below:"
   ]
  },
  {
   "cell_type": "code",
   "execution_count": null,
   "metadata": {},
   "outputs": [],
   "source": [
    "NAME = \"\"\n",
    "COLLABORATORS = \"\""
   ]
  },
  {
   "cell_type": "markdown",
   "metadata": {},
   "source": [
    "---"
   ]
  },
  {
   "cell_type": "markdown",
   "metadata": {
    "deletable": false,
    "editable": false,
    "nbgrader": {
     "checksum": "3856f41a1e071243c69bdc8a8d034f4c",
     "grade": false,
     "grade_id": "cell-d0a0c3ed274a51d8",
     "locked": true,
     "schema_version": 1,
     "solution": false
    }
   },
   "source": [
    "# Static\n",
    "\n",
    "\n",
    "\n",
    "By now you're familiar with the typical use of linear regression: you're given a dataframe with a bunch of features and a set of observations for each feature. You then take one feature (your y) and try to predict it based on other features (your x's). \n",
    "\n",
    "This generally works to a certain extent. This morning, though, we're going to set up a rather strange problem for linear regression. We will see what happens when y and the x's are totally unrelated.\n",
    "\n",
    "Recall that regression follows the formula \n",
    "$$\n",
    "y = \\beta_0 + \\beta_1 x_1 + \\beta_2 x_2 + \\dots + \\epsilon\n",
    "$$ \n",
    "When we \"fit\" an OLS model we are giving the model all of the x's and the y and asking it to find the best betas.\n",
    "\n",
    "This time, however, we're going to set all the betas to zero \n",
    "$$\n",
    "\\beta_0=\\beta_1=\\dots=0\n",
    "$$\n",
    "and then fit an OLS model.\n",
    "\n",
    "Before we do this, stop and think for a second:\n",
    "\n",
    "- What do you expect the model to do? What will the betas/r-squared/p-values that it finds look like?\n",
    "- What do you think the model *should* do? Is that different from what you think it *will* do?\n",
    "\n",
    "![](https://upload.wikimedia.org/wikipedia/commons/5/5a/No_Signal_23.JPG)"
   ]
  },
  {
   "cell_type": "markdown",
   "metadata": {
    "deletable": false,
    "editable": false,
    "nbgrader": {
     "checksum": "566ee1213cc072427aa4baed1656f86f",
     "grade": false,
     "grade_id": "cell-b5ce801809a14be2",
     "locked": true,
     "schema_version": 1,
     "solution": false
    }
   },
   "source": [
    "# Part 1\n",
    "\n",
    "Generate simulation data. We want to have 200 points (observations) for the y feature and for 20 x features. In other words make sure `y.shape == (200,1)` and `x.shape == (200,20)`. The x's should be randomly generated independent of each other. And the y should be randomly generated independent of the x's. \n",
    "\n",
    "Use statsmodels to fit an OLS model to your data. Are the results as you expected? Do you have any betas with a $p<0.05$? If not, re-run the model until you do."
   ]
  },
  {
   "cell_type": "code",
   "execution_count": null,
   "metadata": {
    "ExecuteTime": {
     "end_time": "2019-02-05T15:26:06.473609Z",
     "start_time": "2019-02-05T15:26:03.619426Z"
    },
    "deletable": false,
    "editable": false,
    "nbgrader": {
     "checksum": "39cbe756bdd9da7dbd179eecf64ec54f",
     "grade": false,
     "grade_id": "cell-84ee1b18a28f56bc",
     "locked": true,
     "schema_version": 1,
     "solution": false
    }
   },
   "outputs": [],
   "source": [
    "import statsmodels.api as sm\n",
    "import statsmodels.formula.api as smf\n",
    "import seaborn\n",
    "seaborn.set_style(\"darkgrid\")\n",
    "import pandas as pd\n",
    "%pylab inline"
   ]
  },
  {
   "cell_type": "code",
   "execution_count": null,
   "metadata": {
    "ExecuteTime": {
     "end_time": "2019-02-05T15:28:55.041783Z",
     "start_time": "2019-02-05T15:28:54.913701Z"
    },
    "deletable": false,
    "nbgrader": {
     "checksum": "e6a10b188db432d889aeed15c5bd7dcc",
     "grade": false,
     "grade_id": "cell-42f21cf570e8a3ba",
     "locked": false,
     "schema_version": 1,
     "solution": true
    }
   },
   "outputs": [],
   "source": [
    "n_points = 200\n",
    "n_features = 20\n",
    "\n",
    "# store the output of fit=model.fit()\n",
    "\n",
    "# YOUR CODE HERE\n",
    "raise NotImplementedError()\n",
    "\n",
    "fit = model.fit()\n",
    "fit.summary2()"
   ]
  },
  {
   "cell_type": "code",
   "execution_count": null,
   "metadata": {
    "ExecuteTime": {
     "end_time": "2019-02-05T15:30:30.746220Z",
     "start_time": "2019-02-05T15:30:30.739619Z"
    },
    "deletable": false,
    "editable": false,
    "nbgrader": {
     "checksum": "29edbfa60c88f0732c5772378733fc2f",
     "grade": true,
     "grade_id": "cell-374b565f4b042532",
     "locked": true,
     "points": 10,
     "schema_version": 1,
     "solution": false
    }
   },
   "outputs": [],
   "source": [
    "# correct shape for randomly generated data\n",
    "assert y.shape == (200,1) \n",
    "assert x.shape == (200,20)"
   ]
  },
  {
   "cell_type": "code",
   "execution_count": null,
   "metadata": {
    "ExecuteTime": {
     "end_time": "2019-02-05T15:31:52.847923Z",
     "start_time": "2019-02-05T15:31:52.841259Z"
    },
    "deletable": false,
    "editable": false,
    "nbgrader": {
     "checksum": "aa0edcfe53658a06f5c742631a21ae23",
     "grade": true,
     "grade_id": "cell-38b21ec7d724b529",
     "locked": true,
     "points": 10,
     "schema_version": 1,
     "solution": false
    }
   },
   "outputs": [],
   "source": [
    "# data is random\n",
    "assert sum(fit.pvalues < .05) < 5\n",
    "assert fit.rsquared < .3\n",
    "assert fit.rsquared_adj < .1"
   ]
  },
  {
   "cell_type": "code",
   "execution_count": null,
   "metadata": {
    "ExecuteTime": {
     "end_time": "2019-02-05T15:40:51.646077Z",
     "start_time": "2019-02-05T15:40:51.581633Z"
    }
   },
   "outputs": [],
   "source": []
  },
  {
   "cell_type": "markdown",
   "metadata": {
    "deletable": false,
    "editable": false,
    "nbgrader": {
     "checksum": "deac8c26ba478578e21022d8e6865449",
     "grade": false,
     "grade_id": "cell-ba10e3910d741104",
     "locked": true,
     "schema_version": 1,
     "solution": false
    }
   },
   "source": [
    "# Part 2\n",
    "\n",
    "Now, automate the process! Run the above analysis but vary the number of x's from 1 to 200. Log the number of significant features, r2 and r2-adj for each case and plot them. Use $p<0.05$ for the cutoff for p values.\n",
    "\n",
    "So, you will run the full analysis for `n_features=1`, then log the number of significant features, r2 and r2-adj. And then you will repeat that for `n_features=2`, `n_features=3`, and so on. When you are finished, you should have three lists, one each for the number of significant features, r2 and r2-adj. Each list should have 200 items in it.\n",
    "\n",
    "Hint: You will need to get the r2, r2-adj, and the number of significant features from the fit object. There are two ways to find out more about what is stored in that object:\n",
    "- running `dir(fit)` returns all of the attributes that can be accessed, such as `fit.mse_total` for the total Mean-Squared Erro. \n",
    "- The fit object is explained in more detail here in the [statsmodels documentation](https://www.statsmodels.org/stable/generated/statsmodels.regression.linear_model.RegressionResults.html#statsmodels.regression.linear_model.RegressionResults)"
   ]
  },
  {
   "cell_type": "code",
   "execution_count": null,
   "metadata": {
    "ExecuteTime": {
     "end_time": "2019-02-05T15:48:20.069041Z",
     "start_time": "2019-02-05T15:48:18.570644Z"
    },
    "deletable": false,
    "nbgrader": {
     "checksum": "81385b24ded502d644a20d69a3d79944",
     "grade": false,
     "grade_id": "cell-80550bb841262b8c",
     "locked": false,
     "schema_version": 1,
     "solution": true
    }
   },
   "outputs": [],
   "source": [
    "n_points = 200\n",
    "n_features = 200\n",
    "num_sig = [] # store the number of significant features in this list\n",
    "rsquared = [] # store rsquared in this list\n",
    "rsquared_adj = [] # store rsquared-adj in this list\n",
    "\n",
    "# YOUR CODE HERE\n",
    "raise NotImplementedError()"
   ]
  },
  {
   "cell_type": "code",
   "execution_count": null,
   "metadata": {
    "ExecuteTime": {
     "end_time": "2019-02-05T15:45:47.638582Z",
     "start_time": "2019-02-05T15:45:47.632583Z"
    },
    "deletable": false,
    "editable": false,
    "nbgrader": {
     "checksum": "d245e75928f8e50d1f5b3eda1d8a4774",
     "grade": true,
     "grade_id": "cell-fc03df3bcc5d39fd",
     "locked": true,
     "points": 10,
     "schema_version": 1,
     "solution": false
    }
   },
   "outputs": [],
   "source": [
    "# all results are 200 long\n",
    "assert all([len(l) == 200 for l in [num_sig, rsquared, rsquared_adj]])"
   ]
  },
  {
   "cell_type": "code",
   "execution_count": null,
   "metadata": {
    "ExecuteTime": {
     "end_time": "2019-02-05T15:47:02.876360Z",
     "start_time": "2019-02-05T15:47:02.866412Z"
    },
    "deletable": false,
    "editable": false,
    "nbgrader": {
     "checksum": "0cf98d7f570a15d3b2f503ea3c9c6d68",
     "grade": true,
     "grade_id": "cell-2ce0a7ba49c3b502",
     "locked": true,
     "points": 10,
     "schema_version": 1,
     "solution": false
    }
   },
   "outputs": [],
   "source": [
    "assert all([len(l) == 200 for l in [num_sig, rsquared, rsquared_adj]])\n",
    "assert mean(rsquared[-10:]) > .9\n",
    "assert mean(rsquared_adj[:-1]) < .1\n",
    "assert mean(num_sig) < 10"
   ]
  },
  {
   "cell_type": "code",
   "execution_count": null,
   "metadata": {
    "ExecuteTime": {
     "end_time": "2019-02-05T15:42:52.110200Z",
     "start_time": "2019-02-05T15:42:51.175874Z"
    },
    "deletable": false,
    "editable": false,
    "nbgrader": {
     "checksum": "76427bdd0cf720680cc1a87348ce7b02",
     "grade": false,
     "grade_id": "cell-3747d2eb861c0bb2",
     "locked": true,
     "schema_version": 1,
     "solution": false
    }
   },
   "outputs": [],
   "source": [
    "fig,axes = subplots(nrows=3, ncols=1, sharex=True, figsize=(10,15))\n",
    "\n",
    "axes[0].plot(num_sig)\n",
    "axes[0].set_title(\"number of significant features\")\n",
    "axes[1].plot(rsquared)\n",
    "axes[1].set_title(\"$R^2$\")\n",
    "axes[2].plot(rsquared_adj)\n",
    "axes[2].set_title(\"$R^2_{adj}$\");"
   ]
  },
  {
   "cell_type": "markdown",
   "metadata": {
    "deletable": false,
    "editable": false,
    "nbgrader": {
     "checksum": "44b4dd006e8bf009a962e5f51c5a54e3",
     "grade": false,
     "grade_id": "cell-b9c350dd7137f530",
     "locked": true,
     "schema_version": 1,
     "solution": false
    }
   },
   "source": [
    "Finally in the cell below, in a few sentences each, answer the following questions:\n",
    "- How did the model's performance change as you added more features?\n",
    "- Since you generated the data, you know the correct answer for the number of significant features. What is it?\n",
    "- By the end, it looks like there is a large difference between the actual performance of the model and the rsquared measure of performance. If you needed to report an r-squared value and r-squared adjusted wasn't acceptable, how would you find an accurate way to measure the model's performance?"
   ]
  },
  {
   "cell_type": "markdown",
   "metadata": {
    "deletable": false,
    "nbgrader": {
     "checksum": "f0edaeb4b5a18fd1f3397245a6384654",
     "grade": true,
     "grade_id": "cell-c5dd3e7a3f56c5fa",
     "locked": false,
     "points": 0,
     "schema_version": 1,
     "solution": true
    }
   },
   "source": [
    "YOUR ANSWER HERE"
   ]
  }
 ],
 "metadata": {
  "kernelspec": {
   "display_name": "Python 3",
   "language": "python",
   "name": "python3"
  },
  "language_info": {
   "codemirror_mode": {
    "name": "ipython",
    "version": 3
   },
   "file_extension": ".py",
   "mimetype": "text/x-python",
   "name": "python",
   "nbconvert_exporter": "python",
   "pygments_lexer": "ipython3",
   "version": "3.6.7"
  }
 },
 "nbformat": 4,
 "nbformat_minor": 2
}
